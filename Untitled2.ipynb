{
 "cells": [
  {
   "cell_type": "code",
   "execution_count": 3,
   "id": "f1f8e4a1-f827-4af1-a9f4-208b1dc8c69a",
   "metadata": {},
   "outputs": [],
   "source": [
    "import pandas as pd\n",
    "import numpy as np\n",
    "\n",
    "df=pd.read_csv(\"basic_sales_data.csv\")"
   ]
  },
  {
   "cell_type": "code",
   "execution_count": 4,
   "id": "91580b3e-ecd2-4893-ae01-cb0c7f773f4f",
   "metadata": {},
   "outputs": [
    {
     "data": {
      "text/html": [
       "<div>\n",
       "<style scoped>\n",
       "    .dataframe tbody tr th:only-of-type {\n",
       "        vertical-align: middle;\n",
       "    }\n",
       "\n",
       "    .dataframe tbody tr th {\n",
       "        vertical-align: top;\n",
       "    }\n",
       "\n",
       "    .dataframe thead th {\n",
       "        text-align: right;\n",
       "    }\n",
       "</style>\n",
       "<table border=\"1\" class=\"dataframe\">\n",
       "  <thead>\n",
       "    <tr style=\"text-align: right;\">\n",
       "      <th></th>\n",
       "      <th>Date</th>\n",
       "      <th>Product</th>\n",
       "      <th>Sales_Amount</th>\n",
       "    </tr>\n",
       "  </thead>\n",
       "  <tbody>\n",
       "    <tr>\n",
       "      <th>0</th>\n",
       "      <td>2024-01-01</td>\n",
       "      <td>Bananas</td>\n",
       "      <td>55</td>\n",
       "    </tr>\n",
       "    <tr>\n",
       "      <th>1</th>\n",
       "      <td>2024-01-02</td>\n",
       "      <td>Bananas</td>\n",
       "      <td>156</td>\n",
       "    </tr>\n",
       "    <tr>\n",
       "      <th>2</th>\n",
       "      <td>2024-01-03</td>\n",
       "      <td>Oranges</td>\n",
       "      <td>158</td>\n",
       "    </tr>\n",
       "    <tr>\n",
       "      <th>3</th>\n",
       "      <td>2024-01-04</td>\n",
       "      <td>Apples</td>\n",
       "      <td>157</td>\n",
       "    </tr>\n",
       "    <tr>\n",
       "      <th>4</th>\n",
       "      <td>2024-01-05</td>\n",
       "      <td>Grapes</td>\n",
       "      <td>460</td>\n",
       "    </tr>\n",
       "    <tr>\n",
       "      <th>5</th>\n",
       "      <td>2024-01-06</td>\n",
       "      <td>Oranges</td>\n",
       "      <td>160</td>\n",
       "    </tr>\n",
       "    <tr>\n",
       "      <th>6</th>\n",
       "      <td>2024-01-07</td>\n",
       "      <td>Bananas</td>\n",
       "      <td>425</td>\n",
       "    </tr>\n",
       "    <tr>\n",
       "      <th>7</th>\n",
       "      <td>2024-01-08</td>\n",
       "      <td>Apples</td>\n",
       "      <td>95</td>\n",
       "    </tr>\n",
       "    <tr>\n",
       "      <th>8</th>\n",
       "      <td>2024-01-09</td>\n",
       "      <td>Bananas</td>\n",
       "      <td>136</td>\n",
       "    </tr>\n",
       "    <tr>\n",
       "      <th>9</th>\n",
       "      <td>2024-01-10</td>\n",
       "      <td>Oranges</td>\n",
       "      <td>434</td>\n",
       "    </tr>\n",
       "    <tr>\n",
       "      <th>10</th>\n",
       "      <td>2024-01-11</td>\n",
       "      <td>Oranges</td>\n",
       "      <td>362</td>\n",
       "    </tr>\n",
       "    <tr>\n",
       "      <th>11</th>\n",
       "      <td>2024-01-12</td>\n",
       "      <td>Bananas</td>\n",
       "      <td>366</td>\n",
       "    </tr>\n",
       "    <tr>\n",
       "      <th>12</th>\n",
       "      <td>2024-01-13</td>\n",
       "      <td>Oranges</td>\n",
       "      <td>483</td>\n",
       "    </tr>\n",
       "    <tr>\n",
       "      <th>13</th>\n",
       "      <td>2024-01-14</td>\n",
       "      <td>Grapes</td>\n",
       "      <td>260</td>\n",
       "    </tr>\n",
       "    <tr>\n",
       "      <th>14</th>\n",
       "      <td>2024-01-15</td>\n",
       "      <td>Oranges</td>\n",
       "      <td>154</td>\n",
       "    </tr>\n",
       "    <tr>\n",
       "      <th>15</th>\n",
       "      <td>2024-01-16</td>\n",
       "      <td>Bananas</td>\n",
       "      <td>361</td>\n",
       "    </tr>\n",
       "    <tr>\n",
       "      <th>16</th>\n",
       "      <td>2024-01-17</td>\n",
       "      <td>Apples</td>\n",
       "      <td>357</td>\n",
       "    </tr>\n",
       "    <tr>\n",
       "      <th>17</th>\n",
       "      <td>2024-01-18</td>\n",
       "      <td>Grapes</td>\n",
       "      <td>375</td>\n",
       "    </tr>\n",
       "    <tr>\n",
       "      <th>18</th>\n",
       "      <td>2024-01-19</td>\n",
       "      <td>Apples</td>\n",
       "      <td>138</td>\n",
       "    </tr>\n",
       "    <tr>\n",
       "      <th>19</th>\n",
       "      <td>2024-01-20</td>\n",
       "      <td>Bananas</td>\n",
       "      <td>419</td>\n",
       "    </tr>\n",
       "  </tbody>\n",
       "</table>\n",
       "</div>"
      ],
      "text/plain": [
       "          Date  Product  Sales_Amount\n",
       "0   2024-01-01  Bananas            55\n",
       "1   2024-01-02  Bananas           156\n",
       "2   2024-01-03  Oranges           158\n",
       "3   2024-01-04   Apples           157\n",
       "4   2024-01-05   Grapes           460\n",
       "5   2024-01-06  Oranges           160\n",
       "6   2024-01-07  Bananas           425\n",
       "7   2024-01-08   Apples            95\n",
       "8   2024-01-09  Bananas           136\n",
       "9   2024-01-10  Oranges           434\n",
       "10  2024-01-11  Oranges           362\n",
       "11  2024-01-12  Bananas           366\n",
       "12  2024-01-13  Oranges           483\n",
       "13  2024-01-14   Grapes           260\n",
       "14  2024-01-15  Oranges           154\n",
       "15  2024-01-16  Bananas           361\n",
       "16  2024-01-17   Apples           357\n",
       "17  2024-01-18   Grapes           375\n",
       "18  2024-01-19   Apples           138\n",
       "19  2024-01-20  Bananas           419"
      ]
     },
     "execution_count": 4,
     "metadata": {},
     "output_type": "execute_result"
    }
   ],
   "source": [
    "df"
   ]
  },
  {
   "cell_type": "code",
   "execution_count": 5,
   "id": "e5fcc322-177c-4d78-bd0a-6b7c83dc63ac",
   "metadata": {},
   "outputs": [],
   "source": [
    "total_sales=df['Sales_Amount'].sum()"
   ]
  },
  {
   "cell_type": "code",
   "execution_count": 6,
   "id": "6cefb08b-c0f9-4b64-8c34-d370f88577cb",
   "metadata": {},
   "outputs": [
    {
     "name": "stdout",
     "output_type": "stream",
     "text": [
      "Total Sales: 5511\n"
     ]
    }
   ],
   "source": [
    "print(\"Total Sales:\", total_sales)\n"
   ]
  },
  {
   "cell_type": "code",
   "execution_count": 7,
   "id": "957dbcc9-cdb8-4a8f-867f-aacf29039c16",
   "metadata": {},
   "outputs": [],
   "source": [
    "average_sales=df['Sales_Amount'].mean()"
   ]
  },
  {
   "cell_type": "code",
   "execution_count": 8,
   "id": "e25be56e-eab2-4a43-a262-f69b7ede2cc1",
   "metadata": {},
   "outputs": [
    {
     "data": {
      "text/plain": [
       "np.float64(275.55)"
      ]
     },
     "execution_count": 8,
     "metadata": {},
     "output_type": "execute_result"
    }
   ],
   "source": [
    "average_sales"
   ]
  },
  {
   "cell_type": "code",
   "execution_count": 10,
   "id": "6eebf54f-6678-49fd-b18a-93ddf92dffa5",
   "metadata": {},
   "outputs": [],
   "source": [
    "sales_by_product=df.groupby('Product')['Sales_Amount'].sum()"
   ]
  },
  {
   "cell_type": "code",
   "execution_count": 11,
   "id": "e227f141-d949-4b68-80c4-d0bc9cf6e1f0",
   "metadata": {},
   "outputs": [
    {
     "data": {
      "text/plain": [
       "Product\n",
       "Apples      747\n",
       "Bananas    1918\n",
       "Grapes     1095\n",
       "Oranges    1751\n",
       "Name: Sales_Amount, dtype: int64"
      ]
     },
     "execution_count": 11,
     "metadata": {},
     "output_type": "execute_result"
    }
   ],
   "source": [
    "sales_by_product"
   ]
  },
  {
   "cell_type": "code",
   "execution_count": 13,
   "id": "da49e9f8-7618-418b-a6f7-bd9c64365103",
   "metadata": {},
   "outputs": [],
   "source": [
    "highest_selling_product=sales_by_product.idxmax()"
   ]
  },
  {
   "cell_type": "code",
   "execution_count": 14,
   "id": "5357b90a-4b13-4909-9784-ef5dc9990daf",
   "metadata": {},
   "outputs": [
    {
     "data": {
      "text/plain": [
       "'Bananas'"
      ]
     },
     "execution_count": 14,
     "metadata": {},
     "output_type": "execute_result"
    }
   ],
   "source": [
    "highest_selling_product"
   ]
  },
  {
   "cell_type": "code",
   "execution_count": 19,
   "id": "a9c0db04-4d20-4153-8c29-76e525395a9f",
   "metadata": {},
   "outputs": [
    {
     "name": "stderr",
     "output_type": "stream",
     "text": [
      "Matplotlib is building the font cache; this may take a moment.\n"
     ]
    },
    {
     "data": {
      "image/png": "[encoded data removed]",
      "text/plain": [
       "<Figure size 640x480 with 1 Axes>"
      ]
     },
     "metadata": {},
     "output_type": "display_data"
    }
   ],
   "source": [
    "import matplotlib.pyplot as plt\n",
    "\n",
    "sales_by_product.plot(kind='bar', color='skyblue', title='Bar Chart')\n",
    "plt.xlabel('Product')\n",
    "plt.ylabel('Total Sales')\n",
    "plt.show()"
   ]
  },
  {
   "cell_type": "code",
   "execution_count": 20,
   "id": "73437337-d97c-41bf-800a-a7b2aa83c051",
   "metadata": {},
   "outputs": [
    {
     "name": "stdout",
     "output_type": "stream",
     "text": [
      "         Date  Product  Sales_Amount\n",
      "0  2024-01-01  Bananas            55\n",
      "1  2024-01-02  Bananas           156\n",
      "2  2024-01-03  Oranges           158\n",
      "3  2024-01-04   Apples           157\n",
      "4  2024-01-05   Grapes           460\n",
      "<class 'pandas.core.frame.DataFrame'>\n",
      "RangeIndex: 20 entries, 0 to 19\n",
      "Data columns (total 3 columns):\n",
      " #   Column        Non-Null Count  Dtype \n",
      "---  ------        --------------  ----- \n",
      " 0   Date          20 non-null     object\n",
      " 1   Product       20 non-null     object\n",
      " 2   Sales_Amount  20 non-null     int64 \n",
      "dtypes: int64(1), object(2)\n",
      "memory usage: 612.0+ bytes\n",
      "None\n"
     ]
    }
   ],
   "source": [
    "# Quick look at data\n",
    "print(df.head())\n",
    "print(df.info())"
   ]
  },
  {
   "cell_type": "code",
   "execution_count": 21,
   "id": "5e511af7-74ab-4716-9015-57e3ce01491a",
   "metadata": {},
   "outputs": [
    {
     "name": "stdout",
     "output_type": "stream",
     "text": [
      "Rows: 20 Columns: 3\n"
     ]
    }
   ],
   "source": [
    "print(\"Rows:\", df.shape[0], \"Columns:\", df.shape[1])\n"
   ]
  },
  {
   "cell_type": "code",
   "execution_count": 23,
   "id": "88799910-f61c-43c8-a76b-1947c27e3fa8",
   "metadata": {},
   "outputs": [
    {
     "data": {
      "text/plain": [
       "(20, 3)"
      ]
     },
     "execution_count": 23,
     "metadata": {},
     "output_type": "execute_result"
    }
   ],
   "source": [
    "df.shape"
   ]
  },
  {
   "cell_type": "code",
   "execution_count": 24,
   "id": "71e2e06a-5791-4fe9-af8e-0f222ef74e4f",
   "metadata": {},
   "outputs": [
    {
     "name": "stdout",
     "output_type": "stream",
     "text": [
      "Date            0\n",
      "Product         0\n",
      "Sales_Amount    0\n",
      "dtype: int64\n"
     ]
    }
   ],
   "source": [
    "#Check for missing values:\n",
    "\n",
    "print(df.isnull().sum())"
   ]
  },
  {
   "cell_type": "code",
   "execution_count": 25,
   "id": "c3b5a31f-bab5-469e-a523-3de0fac84357",
   "metadata": {},
   "outputs": [
    {
     "name": "stdout",
     "output_type": "stream",
     "text": [
      "     Date  Product  Sales_Amount\n",
      "0   False    False         False\n",
      "1   False    False         False\n",
      "2   False    False         False\n",
      "3   False    False         False\n",
      "4   False    False         False\n",
      "5   False    False         False\n",
      "6   False    False         False\n",
      "7   False    False         False\n",
      "8   False    False         False\n",
      "9   False    False         False\n",
      "10  False    False         False\n",
      "11  False    False         False\n",
      "12  False    False         False\n",
      "13  False    False         False\n",
      "14  False    False         False\n",
      "15  False    False         False\n",
      "16  False    False         False\n",
      "17  False    False         False\n",
      "18  False    False         False\n",
      "19  False    False         False\n"
     ]
    }
   ],
   "source": [
    "print(df.isnull())"
   ]
  },
  {
   "cell_type": "code",
   "execution_count": 30,
   "id": "3deae263-745f-46a1-87fb-5cf8ab4291cb",
   "metadata": {},
   "outputs": [
    {
     "name": "stdout",
     "output_type": "stream",
     "text": [
      "Highest Sale: 483\n",
      "Highest sale is occuring at index:  12\n"
     ]
    }
   ],
   "source": [
    "max_sale = df['Sales_Amount'].max()\n",
    "print(\"Highest Sale:\", max_sale)\n",
    "max_sale_index= df['Sales_Amount'].idxmax()\n",
    "print(\"Highest sale is occuring at index: \",max_sale_index)"
   ]
  },
  {
   "cell_type": "code",
   "execution_count": 32,
   "id": "47a30b0a-4d30-404f-ae3a-3fd28a54a5ee",
   "metadata": {},
   "outputs": [
    {
     "name": "stdout",
     "output_type": "stream",
     "text": [
      "Highest Sale Details:\n",
      " Date            2024-01-13\n",
      "Product            Oranges\n",
      "Sales_Amount           483\n",
      "Name: 12, dtype: object\n"
     ]
    }
   ],
   "source": [
    "# Get the entire row\n",
    "highest_sale_row = df.loc[max_sale_index]\n",
    "print(\"Highest Sale Details:\\n\", highest_sale_row)"
   ]
  },
  {
   "cell_type": "code",
   "execution_count": 39,
   "id": "6bcf38d5-4f57-443c-97e6-e7a7e1745562",
   "metadata": {},
   "outputs": [
    {
     "data": {
      "text/html": [
       "<div>\n",
       "<style scoped>\n",
       "    .dataframe tbody tr th:only-of-type {\n",
       "        vertical-align: middle;\n",
       "    }\n",
       "\n",
       "    .dataframe tbody tr th {\n",
       "        vertical-align: top;\n",
       "    }\n",
       "\n",
       "    .dataframe thead th {\n",
       "        text-align: right;\n",
       "    }\n",
       "</style>\n",
       "<table border=\"1\" class=\"dataframe\">\n",
       "  <thead>\n",
       "    <tr style=\"text-align: right;\">\n",
       "      <th></th>\n",
       "      <th>Date</th>\n",
       "      <th>Product</th>\n",
       "      <th>Sales_Amount</th>\n",
       "    </tr>\n",
       "  </thead>\n",
       "  <tbody>\n",
       "    <tr>\n",
       "      <th>0</th>\n",
       "      <td>2024-01-01</td>\n",
       "      <td>Bananas</td>\n",
       "      <td>55</td>\n",
       "    </tr>\n",
       "    <tr>\n",
       "      <th>1</th>\n",
       "      <td>2024-01-02</td>\n",
       "      <td>Bananas</td>\n",
       "      <td>156</td>\n",
       "    </tr>\n",
       "    <tr>\n",
       "      <th>2</th>\n",
       "      <td>2024-01-03</td>\n",
       "      <td>Oranges</td>\n",
       "      <td>158</td>\n",
       "    </tr>\n",
       "    <tr>\n",
       "      <th>3</th>\n",
       "      <td>2024-01-04</td>\n",
       "      <td>Apples</td>\n",
       "      <td>157</td>\n",
       "    </tr>\n",
       "    <tr>\n",
       "      <th>4</th>\n",
       "      <td>2024-01-05</td>\n",
       "      <td>Grapes</td>\n",
       "      <td>460</td>\n",
       "    </tr>\n",
       "    <tr>\n",
       "      <th>5</th>\n",
       "      <td>2024-01-06</td>\n",
       "      <td>Oranges</td>\n",
       "      <td>160</td>\n",
       "    </tr>\n",
       "    <tr>\n",
       "      <th>6</th>\n",
       "      <td>2024-01-07</td>\n",
       "      <td>Bananas</td>\n",
       "      <td>425</td>\n",
       "    </tr>\n",
       "    <tr>\n",
       "      <th>7</th>\n",
       "      <td>2024-01-08</td>\n",
       "      <td>Apples</td>\n",
       "      <td>95</td>\n",
       "    </tr>\n",
       "    <tr>\n",
       "      <th>8</th>\n",
       "      <td>2024-01-09</td>\n",
       "      <td>Bananas</td>\n",
       "      <td>136</td>\n",
       "    </tr>\n",
       "    <tr>\n",
       "      <th>9</th>\n",
       "      <td>2024-01-10</td>\n",
       "      <td>Oranges</td>\n",
       "      <td>434</td>\n",
       "    </tr>\n",
       "    <tr>\n",
       "      <th>10</th>\n",
       "      <td>2024-01-11</td>\n",
       "      <td>Oranges</td>\n",
       "      <td>362</td>\n",
       "    </tr>\n",
       "    <tr>\n",
       "      <th>11</th>\n",
       "      <td>2024-01-12</td>\n",
       "      <td>Bananas</td>\n",
       "      <td>366</td>\n",
       "    </tr>\n",
       "    <tr>\n",
       "      <th>12</th>\n",
       "      <td>2024-01-13</td>\n",
       "      <td>Oranges</td>\n",
       "      <td>483</td>\n",
       "    </tr>\n",
       "    <tr>\n",
       "      <th>13</th>\n",
       "      <td>2024-01-14</td>\n",
       "      <td>Grapes</td>\n",
       "      <td>260</td>\n",
       "    </tr>\n",
       "    <tr>\n",
       "      <th>14</th>\n",
       "      <td>2024-01-15</td>\n",
       "      <td>Oranges</td>\n",
       "      <td>154</td>\n",
       "    </tr>\n",
       "    <tr>\n",
       "      <th>15</th>\n",
       "      <td>2024-01-16</td>\n",
       "      <td>Bananas</td>\n",
       "      <td>361</td>\n",
       "    </tr>\n",
       "    <tr>\n",
       "      <th>16</th>\n",
       "      <td>2024-01-17</td>\n",
       "      <td>Apples</td>\n",
       "      <td>357</td>\n",
       "    </tr>\n",
       "    <tr>\n",
       "      <th>17</th>\n",
       "      <td>2024-01-18</td>\n",
       "      <td>Grapes</td>\n",
       "      <td>375</td>\n",
       "    </tr>\n",
       "    <tr>\n",
       "      <th>18</th>\n",
       "      <td>2024-01-19</td>\n",
       "      <td>Apples</td>\n",
       "      <td>138</td>\n",
       "    </tr>\n",
       "    <tr>\n",
       "      <th>19</th>\n",
       "      <td>2024-01-20</td>\n",
       "      <td>Bananas</td>\n",
       "      <td>419</td>\n",
       "    </tr>\n",
       "  </tbody>\n",
       "</table>\n",
       "</div>"
      ],
      "text/plain": [
       "         Date  Product  Sales_Amount\n",
       "0  2024-01-01  Bananas            55\n",
       "1  2024-01-02  Bananas           156\n",
       "2  2024-01-03  Oranges           158\n",
       "3  2024-01-04   Apples           157\n",
       "4  2024-01-05   Grapes           460\n",
       "5  2024-01-06  Oranges           160\n",
       "6  2024-01-07  Bananas           425\n",
       "7  2024-01-08   Apples            95\n",
       "8  2024-01-09  Bananas           136\n",
       "9  2024-01-10  Oranges           434\n",
       "10 2024-01-11  Oranges           362\n",
       "11 2024-01-12  Bananas           366\n",
       "12 2024-01-13  Oranges           483\n",
       "13 2024-01-14   Grapes           260\n",
       "14 2024-01-15  Oranges           154\n",
       "15 2024-01-16  Bananas           361\n",
       "16 2024-01-17   Apples           357\n",
       "17 2024-01-18   Grapes           375\n",
       "18 2024-01-19   Apples           138\n",
       "19 2024-01-20  Bananas           419"
      ]
     },
     "execution_count": 39,
     "metadata": {},
     "output_type": "execute_result"
    }
   ],
   "source": [
    "df['Date']=pd.to_datetime(df['Date'])  #This converts the Date column from a string to a datetime object. It does not change how the table looks when you print it — it still shows the same dates.\n",
    "\n",
    "#The difference is under the hood: Python now knows these values are actual dates, so you can do date-based operations, like sorting, filtering by month, or calculating differences between dates.\n",
    "df"
   ]
  },
  {
   "cell_type": "code",
   "execution_count": 41,
   "id": "434e3517-3a5a-4bff-a8b0-466880088a02",
   "metadata": {},
   "outputs": [
    {
     "data": {
      "text/plain": [
       "Date\n",
       "2024-01-01     55\n",
       "2024-01-02    156\n",
       "2024-01-03    158\n",
       "2024-01-04    157\n",
       "2024-01-05    460\n",
       "2024-01-06    160\n",
       "2024-01-07    425\n",
       "2024-01-08     95\n",
       "2024-01-09    136\n",
       "2024-01-10    434\n",
       "2024-01-11    362\n",
       "2024-01-12    366\n",
       "2024-01-13    483\n",
       "2024-01-14    260\n",
       "2024-01-15    154\n",
       "2024-01-16    361\n",
       "2024-01-17    357\n",
       "2024-01-18    375\n",
       "2024-01-19    138\n",
       "2024-01-20    419\n",
       "Name: Sales_Amount, dtype: int64"
      ]
     },
     "execution_count": 41,
     "metadata": {},
     "output_type": "execute_result"
    }
   ],
   "source": [
    "sales_over_time=df.groupby('Date')['Sales_Amount'].max()\n",
    "sales_over_time"
   ]
  },
  {
   "cell_type": "code",
   "execution_count": 44,
   "id": "3caa3717-7363-4d25-a0b0-c189851a63a1",
   "metadata": {},
   "outputs": [
    {
     "data": {
      "image/png": "[encoded data removed]",
      "text/plain": [
       "<Figure size 640x480 with 1 Axes>"
      ]
     },
     "metadata": {},
     "output_type": "display_data"
    }
   ],
   "source": [
    "sales_over_time.plot(kind='bar', color='yellow', title='Sales Over Time')\n",
    "plt.xlabel('Date')\n",
    "plt.ylabel('Sales Amount')\n",
    "plt.show()"
   ]
  },
  {
   "cell_type": "code",
   "execution_count": 45,
   "id": "d25fa64c-ce11-4eec-9124-e4fce1fd1f84",
   "metadata": {},
   "outputs": [
    {
     "data": {
      "image/png": "[encoded data removed]",
      "text/plain": [
       "<Figure size 640x480 with 1 Axes>"
      ]
     },
     "metadata": {},
     "output_type": "display_data"
    }
   ],
   "source": [
    "sales_over_time.plot(kind='line', color='yellow', title='Sales Over Time')\n",
    "plt.xlabel('Date')\n",
    "plt.ylabel('Sales Amount')\n",
    "plt.show()"
   ]
  },
  {
   "cell_type": "code",
   "execution_count": null,
   "id": "63854677-e6fc-497e-b77c-48d4cd1d38c1",
   "metadata": {},
   "outputs": [],
   "source": []
  }
 ],
 "metadata": {
  "kernelspec": {
   "display_name": "Python 3 (ipykernel)",
   "language": "python",
   "name": "python3"
  },
  "language_info": {
   "codemirror_mode": {
    "name": "ipython",
    "version": 3
   },
   "file_extension": ".py",
   "mimetype": "text/x-python",
   "name": "python",
   "nbconvert_exporter": "python",
   "pygments_lexer": "ipython3",
   "version": "3.13.5"
  }
 },
 "nbformat": 4,
 "nbformat_minor": 5
}
